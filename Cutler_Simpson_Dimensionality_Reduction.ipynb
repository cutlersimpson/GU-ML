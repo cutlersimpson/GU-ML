{
  "nbformat": 4,
  "nbformat_minor": 0,
  "metadata": {
    "colab": {
      "provenance": [],
      "authorship_tag": "ABX9TyOSthBK0Wv6Y6oZ9X/j6Fwh",
      "include_colab_link": true
    },
    "kernelspec": {
      "name": "python3",
      "display_name": "Python 3"
    },
    "language_info": {
      "name": "python"
    }
  },
  "cells": [
    {
      "cell_type": "markdown",
      "metadata": {
        "id": "view-in-github",
        "colab_type": "text"
      },
      "source": [
        "<a href=\"https://colab.research.google.com/github/cutlersimpson/GU-ML/blob/main/Cutler_Simpson_Dimensionality_Reduction.ipynb\" target=\"_parent\"><img src=\"https://colab.research.google.com/assets/colab-badge.svg\" alt=\"Open In Colab\"/></a>"
      ]
    },
    {
      "cell_type": "markdown",
      "source": [
        "# Dimensionality Reduction\n",
        "---"
      ],
      "metadata": {
        "id": "8_aSPDjZTzoZ"
      }
    },
    {
      "cell_type": "code",
      "source": [
        "#@markdown Install imports\n",
        "import numpy as np \n",
        "import matplotlib.pyplot as plt \n",
        "import pandas as pd "
      ],
      "metadata": {
        "cellView": "form",
        "id": "H-hDpgjHTraY"
      },
      "execution_count": null,
      "outputs": []
    },
    {
      "cell_type": "markdown",
      "source": [
        "# Cancer Data\n",
        "---"
      ],
      "metadata": {
        "id": "Ub4sZl8F3YXk"
      }
    },
    {
      "cell_type": "code",
      "source": [
        "#@markdown Load cancer data\n",
        "\n",
        "cancer = pd.read_table('https://raw.githubusercontent.com/PineBiotech/omicslogic/master/LIHC_BRCA_data1_marked.txt', header=None)\n",
        "cancer.head"
      ],
      "metadata": {
        "id": "ZwRyy7hST5Gi",
        "cellView": "form",
        "colab": {
          "base_uri": "https://localhost:8080/"
        },
        "outputId": "b043a372-d1b3-44eb-a71a-8d4004a339e1"
      },
      "execution_count": null,
      "outputs": [
        {
          "output_type": "execute_result",
          "data": {
            "text/plain": [
              "<bound method NDFrame.head of                      0                                     1   \\\n",
              "0                    Id  TCGA-2V-A95S-01A-11R-A37K-07_LIHC_TP   \n",
              "1                 class                               LIHC_TP   \n",
              "2            a100130426                                     0   \n",
              "3            a100133144                                  2.31   \n",
              "4            a100134869                                  5.69   \n",
              "...                 ...                                   ...   \n",
              "20528          ZYX|7791                                  4869   \n",
              "20529       ZZEF1|23140                                  1366   \n",
              "20530        ZZZ3|26009                                   783   \n",
              "20531  psiTPTE22|387590                                     6   \n",
              "20532       tAKR|389932                                    10   \n",
              "\n",
              "                                         2   \\\n",
              "0      TCGA-2Y-A9GS-01A-12R-A38B-07_LIHC_TP   \n",
              "1                                   LIHC_TP   \n",
              "2                                         0   \n",
              "3                                     53.59   \n",
              "4                                      5.41   \n",
              "...                                     ...   \n",
              "20528                                 10756   \n",
              "20529                                  1533   \n",
              "20530                                  1746   \n",
              "20531                                    13   \n",
              "20532                                   980   \n",
              "\n",
              "                                         3   \\\n",
              "0      TCGA-2Y-A9GU-01A-11R-A38B-07_LIHC_TP   \n",
              "1                                   LIHC_TP   \n",
              "2                                         0   \n",
              "3                                      6.86   \n",
              "4                                      6.14   \n",
              "...                                     ...   \n",
              "20528                                  3708   \n",
              "20529                                  1606   \n",
              "20530                                   412   \n",
              "20531                                     3   \n",
              "20532                                     3   \n",
              "\n",
              "                                         4   \\\n",
              "0      TCGA-BC-A10Q-11A-11R-A131-07_LIHC_NT   \n",
              "1                                   LIHC_NT   \n",
              "2                                         0   \n",
              "3                                         2   \n",
              "4                                         0   \n",
              "...                                     ...   \n",
              "20528                                  2799   \n",
              "20529                                   493   \n",
              "20530                                   486   \n",
              "20531                                    14   \n",
              "20532                                   167   \n",
              "\n",
              "                                         5   \\\n",
              "0      TCGA-BC-A10T-11A-11R-A131-07_LIHC_NT   \n",
              "1                                   LIHC_NT   \n",
              "2                                         0   \n",
              "3                                      1.41   \n",
              "4                                      2.59   \n",
              "...                                     ...   \n",
              "20528                                  1661   \n",
              "20529                                   320   \n",
              "20530                                   694   \n",
              "20531                                     2   \n",
              "20532                                    68   \n",
              "\n",
              "                                         6   \\\n",
              "0      TCGA-BC-A10W-11A-11R-A131-07_LIHC_NT   \n",
              "1                                   LIHC_NT   \n",
              "2                                         0   \n",
              "3                                      4.94   \n",
              "4                                      1.06   \n",
              "...                                     ...   \n",
              "20528                                  4915   \n",
              "20529                                   638   \n",
              "20530                                   482   \n",
              "20531                                    13   \n",
              "20532                                   107   \n",
              "\n",
              "                                         7   \\\n",
              "0      TCGA-3C-AAAU-01A-11R-A41B-07_BRCA_TP   \n",
              "1                                   BRCA_TP   \n",
              "2                                         0   \n",
              "3                                   16.3644   \n",
              "4                                   12.9316   \n",
              "...                                     ...   \n",
              "20528                             3507.2482   \n",
              "20529                             1894.9342   \n",
              "20530                             1180.4565   \n",
              "20531                                1.7233   \n",
              "20532                                     0   \n",
              "\n",
              "                                         8   \\\n",
              "0      TCGA-3C-AALJ-01A-31R-A41B-07_BRCA_TP   \n",
              "1                                   BRCA_TP   \n",
              "2                                    0.9066   \n",
              "3                                   11.6228   \n",
              "4                                    9.2294   \n",
              "...                                     ...   \n",
              "20528                             5458.7489   \n",
              "20529                               942.883   \n",
              "20530                              509.5195   \n",
              "20531                               35.3581   \n",
              "20532                                     0   \n",
              "\n",
              "                                         9   \\\n",
              "0      TCGA-3C-AALK-01A-11R-A41B-07_BRCA_TP   \n",
              "1                                   BRCA_TP   \n",
              "2                                         0   \n",
              "3                                   12.0894   \n",
              "4                                   11.0799   \n",
              "...                                     ...   \n",
              "20528                             5691.3529   \n",
              "20529                              781.1336   \n",
              "20530                              700.8688   \n",
              "20531                               66.6115   \n",
              "20532                                     0   \n",
              "\n",
              "                                         10  \\\n",
              "0      TCGA-A7-A0CE-11A-21R-A089-07_BRCA_NT   \n",
              "1                                   BRCA_NT   \n",
              "2                                         0   \n",
              "3                                    4.3333   \n",
              "4                                    3.9206   \n",
              "...                                     ...   \n",
              "20528                              6455.873   \n",
              "20529                             1314.2857   \n",
              "20530                               968.254   \n",
              "20531                              265.3968   \n",
              "20532                                0.3175   \n",
              "\n",
              "                                         11  \\\n",
              "0      TCGA-A7-A0CH-11A-32R-A089-07_BRCA_NT   \n",
              "1                                   BRCA_NT   \n",
              "2                                         0   \n",
              "3                                    4.2087   \n",
              "4                                    2.1852   \n",
              "...                                     ...   \n",
              "20528                             6038.9281   \n",
              "20529                              1477.386   \n",
              "20530                              620.9685   \n",
              "20531                              466.7607   \n",
              "20532                                     0   \n",
              "\n",
              "                                         12  \n",
              "0      TCGA-A7-A0D9-11A-53R-A089-07_BRCA_NT  \n",
              "1                                   BRCA_NT  \n",
              "2                                         0  \n",
              "3                                     3.055  \n",
              "4                                         0  \n",
              "...                                     ...  \n",
              "20528                             2344.7047  \n",
              "20529                             1997.9633  \n",
              "20530                              730.6517  \n",
              "20531                              346.7413  \n",
              "20532                                     0  \n",
              "\n",
              "[20533 rows x 13 columns]>"
            ]
          },
          "metadata": {},
          "execution_count": 43
        }
      ]
    },
    {
      "cell_type": "code",
      "source": [
        "#@markdown Process data for PCA\n",
        "\n",
        "#set labels\n",
        "labels_list = cancer.loc[[0]] \n",
        "\n",
        "#Make a list of sample names\n",
        "sample_names = cancer.loc[0] \n",
        "sample_names = list(cancer)[1:] \n",
        "\n",
        "#Make unique list of labels\n",
        "labels = np.unique(labels_list) \n",
        "\n",
        "#delete \"Group\" label \n",
        "labels = np.delete(labels, np.where(labels == 'Group')) \n",
        "\n",
        "#Remove row \"Class\" at index 1 and index from data\n",
        "data=cancer.drop([0, 1]) \n",
        "data = data.transpose() \n",
        "data = data.drop([0])\n",
        "\n",
        "#Get list of all labels\n",
        "flabels = labels_list.loc[0,:].values[1:] \n",
        "\n",
        "#scale data\n",
        "from sklearn.preprocessing import StandardScaler \n",
        "from sklearn import manifold\n",
        "\n",
        "scaled = StandardScaler() \n",
        "scaled.fit(data) \n",
        "scaled_data = scaled.transform(data)"
      ],
      "metadata": {
        "id": "K2bkOdr-ew34",
        "cellView": "form"
      },
      "execution_count": null,
      "outputs": []
    },
    {
      "cell_type": "code",
      "source": [
        "#@markdown Run Principal Component Analysis\n",
        "from sklearn.decomposition import PCA \n",
        "\n",
        "pca = PCA(n_components=2) \n",
        "pca.fit(scaled_data) \n",
        "xpca = pca.transform(scaled_data)\n",
        "\n",
        "PC1 = 0 \n",
        "PC2 = 1 \n",
        "\n",
        "plt.figure(figsize=(10, 10))\n",
        "\n",
        "for i in range(0, xpca.shape[0]): \n",
        "  if 'LIHC_TP' in flabels[i]: \n",
        "    c1 = plt.scatter(xpca[i,PC1],xpca[i,PC2], c='r', marker='+') \n",
        "  elif 'LIHC_NT' in flabels[i]: \n",
        "    c2 = plt.scatter(xpca[i,PC1],xpca[i,PC2], c='g', marker='o') \n",
        "  elif 'BRCA_TP' in flabels[i]: \n",
        "    c3 = plt.scatter(xpca[i,PC1],xpca[i,PC2], c='b', marker='*') \n",
        "  elif 'BRCA_NT' in flabels[i]:\n",
        "    c4 = plt.scatter(xpca[i,PC1],xpca[i,PC2], c='g', marker='+') \n",
        "\n",
        "#Add labels to PCA scatterplot:\n",
        "plt.legend([c1, c2, c3, c4],['LIHC_TP', 'LIHC_NT', 'BRCA_TP', 'BRCA_NT']) \n",
        "plt.xlabel(f'PC1 {round(pca.explained_variance_ratio_[0],2)*100}%') \n",
        "plt.ylabel(f'PC2 {round(pca.explained_variance_ratio_[1],2)*100}%') \n",
        "plt.title('Cancer Data PCA')\n",
        "plt.show() "
      ],
      "metadata": {
        "colab": {
          "base_uri": "https://localhost:8080/",
          "height": 621
        },
        "cellView": "form",
        "id": "vYHF4YLLyJUY",
        "outputId": "b32bbce5-b456-4ad6-a0dc-0a6825b4e2a4"
      },
      "execution_count": null,
      "outputs": [
        {
          "output_type": "display_data",
          "data": {
            "text/plain": [
              "<Figure size 720x720 with 1 Axes>"
            ],
            "image/png": "[encoded data removed]"
          },
          "metadata": {
            "needs_background": "light"
          }
        }
      ]
    },
    {
      "cell_type": "markdown",
      "source": [
        "# Results\n",
        "\n",
        "The PCA plot covers 45% of the variance which is not a significant amount of coverage. The plot does show that the tissue type (LIHC vs BRCA) is a more significant factor differentiating the samples as the BRCA samples, both tumor and non tumor are clustered near each other in the bottom left corner of the plot while the LIHC data is more spread out but closer together when compared to the BRCA samples. "
      ],
      "metadata": {
        "id": "qbOo25sZ3dh7"
      }
    },
    {
      "cell_type": "markdown",
      "source": [
        "# Ebola\n",
        "---"
      ],
      "metadata": {
        "id": "-F25EaXi4J2P"
      }
    },
    {
      "cell_type": "code",
      "source": [
        "#@markdown Load ebola data\n",
        "\n",
        "data = pd.read_table('https://www.dropbox.com/s/8zwxoujgqfla1ac/EBV_PRJNA386278_HZlog_Zaire1995.txt?dl=1', header=None)\n",
        "data.head"
      ],
      "metadata": {
        "colab": {
          "base_uri": "https://localhost:8080/"
        },
        "outputId": "660f5aa5-c6cc-48aa-d87c-c8f221d318e9",
        "id": "B_w47rcS4Z4j",
        "cellView": "form"
      },
      "execution_count": null,
      "outputs": [
        {
          "output_type": "execute_result",
          "data": {
            "text/plain": [
              "<bound method NDFrame.head of                                                        0                  1  \\\n",
              "0                                        kchain_Pos_Nucl  EBV_LI_SRR5528818   \n",
              "1      Zaire_ebolavirus_strain_Zaire_1995,_complete_g...                  0   \n",
              "2      Zaire_ebolavirus_strain_Zaire_1995,_complete_g...                  0   \n",
              "3      Zaire_ebolavirus_strain_Zaire_1995,_complete_g...                  0   \n",
              "4      Zaire_ebolavirus_strain_Zaire_1995,_complete_g...                  0   \n",
              "...                                                  ...                ...   \n",
              "18955  Zaire_ebolavirus_strain_Zaire_1995,_complete_g...          0.0547759   \n",
              "18956  Zaire_ebolavirus_strain_Zaire_1995,_complete_g...          0.0547759   \n",
              "18957  Zaire_ebolavirus_strain_Zaire_1995,_complete_g...          0.0547759   \n",
              "18958  Zaire_ebolavirus_strain_Zaire_1995,_complete_g...          0.0547759   \n",
              "18959  Zaire_ebolavirus_strain_Zaire_1995,_complete_g...          0.0547759   \n",
              "\n",
              "                       2                  3                   4  \\\n",
              "0      EBV_LI_SRR5528824  EBV_LI_SRR5528825  EBV_SLK_SRR5528820   \n",
              "1              0.0127566                  0                   0   \n",
              "2             0.00632734                  0                   0   \n",
              "3             0.00626774                  0                   0   \n",
              "4              0.0226646                  0                   0   \n",
              "...                  ...                ...                 ...   \n",
              "18955          0.0216746                  0                   0   \n",
              "18956         0.00962085                  0                   0   \n",
              "18957         0.00962085                  0                   0   \n",
              "18958          0.0219941                  0                   0   \n",
              "18959          0.0100571                  0                   0   \n",
              "\n",
              "                        5                   6                  7  \\\n",
              "0      EBV_SLK_SRR5528821  EBV_SLK_SRR5528823  EBV_SL_SRR5528816   \n",
              "1                       0                   0        0.000883478   \n",
              "2                       0                   0        0.000862856   \n",
              "3                       0                   0        0.000853996   \n",
              "4                       0                   0         0.00317022   \n",
              "...                   ...                 ...                ...   \n",
              "18955                   0                   0                  0   \n",
              "18956                   0                   0                  0   \n",
              "18957                   0                   0                  0   \n",
              "18958                   0                   0                  0   \n",
              "18959                   0                   0                  0   \n",
              "\n",
              "                       8                  9  \n",
              "0      EBV_SL_SRR5528817  EBV_SL_SRR5528822  \n",
              "1            0.000728676        0.000877652  \n",
              "2             0.00070775        0.000863976  \n",
              "3            0.000686574        0.000844244  \n",
              "4             0.00253852         0.00313818  \n",
              "...                  ...                ...  \n",
              "18955                  0                  0  \n",
              "18956                  0                  0  \n",
              "18957                  0                  0  \n",
              "18958                  0                  0  \n",
              "18959                  0                  0  \n",
              "\n",
              "[18960 rows x 10 columns]>"
            ]
          },
          "metadata": {},
          "execution_count": 89
        }
      ]
    },
    {
      "cell_type": "code",
      "source": [
        "#@markdown Process data for PCA\n",
        "\n",
        "#set labels\n",
        "labels_list = data.loc[[0]] \n",
        "\n",
        "#Make a list of sample names\n",
        "sample_names = data.loc[0] \n",
        "sample_names = list(data)[1:] \n",
        "\n",
        "#Make unique list of labels\n",
        "labels = np.unique(labels_list) \n",
        "\n",
        "#delete \"Group\" label \n",
        "labels = np.delete(labels, np.where(labels == 'Group')) \n",
        "\n",
        "#Remove row \"Class\" at index 1 and index from data\n",
        "data=data.drop([0]) \n",
        "data = data.transpose() \n",
        "data = data.drop([0])\n",
        "\n",
        "#Get list of all labels\n",
        "flabels = labels_list.loc[0,:].values[1:] \n",
        "\n",
        "#scale data\n",
        "from sklearn.preprocessing import StandardScaler \n",
        "from sklearn import manifold\n",
        "\n",
        "scaled = StandardScaler() \n",
        "scaled.fit(data) \n",
        "scaled_data = scaled.transform(data)"
      ],
      "metadata": {
        "id": "_ajnXorK4Z4k",
        "cellView": "form"
      },
      "execution_count": null,
      "outputs": []
    },
    {
      "cell_type": "code",
      "source": [
        "#@markdown Run Principal Component Analysis\n",
        "from sklearn.decomposition import PCA \n",
        "\n",
        "pca = PCA(n_components=2) \n",
        "pca.fit(scaled_data) \n",
        "xpca = pca.transform(scaled_data)\n",
        "\n",
        "PC1 = 0 \n",
        "PC2 = 1 \n",
        "\n",
        "plt.figure(figsize=(10, 10))\n",
        "\n",
        "for i in range(0, xpca.shape[0]): \n",
        "  if 'LI' in flabels[i]: \n",
        "    c1 = plt.scatter(xpca[i,PC1],xpca[i,PC2], c='r', marker='+') \n",
        "  elif 'SLK' in flabels[i]: \n",
        "    c2 = plt.scatter(xpca[i,PC1],xpca[i,PC2], c='g', marker='o') \n",
        "  elif 'SL' in flabels[i]: \n",
        "    c3 = plt.scatter(xpca[i,PC1],xpca[i,PC2], c='b', marker='*') \n",
        "\n",
        "#Add labels to PCA scatterplot:\n",
        "plt.legend([c1, c2, c3],['EBV_LI', 'EBV_SLK', 'EBL_SL']) \n",
        "plt.xlabel(f'PC1 {round(pca.explained_variance_ratio_[0],2)*100}%') \n",
        "plt.ylabel(f'PC2 {round(pca.explained_variance_ratio_[1],2)*100}%') \n",
        "plt.title('Ebola Data PCA')\n",
        "plt.show() "
      ],
      "metadata": {
        "colab": {
          "base_uri": "https://localhost:8080/",
          "height": 621
        },
        "outputId": "25f9732b-51da-4be3-bbe9-8686c8ace514",
        "id": "VvIIHrWk4Z4k",
        "cellView": "form"
      },
      "execution_count": null,
      "outputs": [
        {
          "output_type": "display_data",
          "data": {
            "text/plain": [
              "<Figure size 720x720 with 1 Axes>"
            ],
            "image/png": "[encoded data removed]"
          },
          "metadata": {
            "needs_background": "light"
          }
        }
      ]
    },
    {
      "cell_type": "markdown",
      "source": [
        "# Results\n",
        "---"
      ],
      "metadata": {
        "id": "lrJMVX7U8hWP"
      }
    },
    {
      "cell_type": "markdown",
      "source": [
        "# Microbiome\n",
        "---\n",
        "\n",
        "The PCA plot for the Ebola data shows the variance of approximately 58% of the data which is lower than would be expected for thorough analysis. The groups shown are the three primary high level sample groups from the data. This different phenotypes separating these genetic sequences are different ebola proteins due to different amino acids across various positions grouped by prevelance in the samples."
      ],
      "metadata": {
        "id": "hglsdAcv4L5S"
      }
    },
    {
      "cell_type": "code",
      "source": [
        "#@markdown Load microbiome data\n",
        "\n",
        "data = pd.read_table('https://www.dropbox.com/s/vyw4kxp9h7yiwac/Microbiome_example.txt?dl=1', header=None)\n",
        "data.head"
      ],
      "metadata": {
        "colab": {
          "base_uri": "https://localhost:8080/"
        },
        "outputId": "d8610673-24a4-4198-c9d3-c343d6ee4210",
        "cellView": "form",
        "id": "YgIC46nQ82WJ"
      },
      "execution_count": null,
      "outputs": [
        {
          "output_type": "execute_result",
          "data": {
            "text/plain": [
              "<bound method NDFrame.head of            0      1      2      3      4      5      6\n",
              "0      BKCM1  BKF01  BKF02  BKF03  BKF13  BKF14  BKF15\n",
              "1      OTU_1      0    411    406    417     64    463\n",
              "2      OTU_2    122    470    394    299    232    534\n",
              "3      OTU_3     33    310    178    384    266    471\n",
              "4      OTU_4    115    313    389    346    268    460\n",
              "..       ...    ...    ...    ...    ...    ...    ...\n",
              "424  OTU_424      0      0      0      0      0      0\n",
              "425  OTU_425      0      0      0      0      0      0\n",
              "426  OTU_426      0      0      2      0      0      0\n",
              "427  OTU_427      0      0      0      0      0      0\n",
              "428  OTU_428      0      0      0      0      0      0\n",
              "\n",
              "[429 rows x 7 columns]>"
            ]
          },
          "metadata": {},
          "execution_count": 80
        }
      ]
    },
    {
      "cell_type": "code",
      "source": [
        "#@markdown Process data for PCA\n",
        "\n",
        "#set labels\n",
        "labels_list = data.loc[[0]] \n",
        "\n",
        "#Make a list of sample names\n",
        "sample_names = data.loc[0] \n",
        "sample_names = list(data)[1:] \n",
        "\n",
        "#Make unique list of labels\n",
        "labels = np.unique(labels_list) \n",
        "\n",
        "#delete \"Group\" label \n",
        "labels = np.delete(labels, np.where(labels == 'Group')) \n",
        "\n",
        "#Remove row \"Class\" at index 1 and index from data\n",
        "data = data.drop([0]) \n",
        "data = data.transpose() \n",
        "data = data.drop([0])\n",
        "\n",
        "#Get list of all labels\n",
        "flabels = labels_list.loc[0,:].values[1:] \n",
        "\n",
        "#scale data\n",
        "from sklearn.preprocessing import StandardScaler \n",
        "from sklearn import manifold\n",
        "\n",
        "scaled = StandardScaler() \n",
        "scaled.fit(data) \n",
        "scaled_data = scaled.transform(data)"
      ],
      "metadata": {
        "cellView": "form",
        "id": "XkVkr01l82WJ"
      },
      "execution_count": null,
      "outputs": []
    },
    {
      "cell_type": "code",
      "source": [
        "#@markdown Run Principal Component Analysis\n",
        "from sklearn.decomposition import PCA \n",
        "\n",
        "pca = PCA(n_components=2) \n",
        "pca.fit(scaled_data) \n",
        "xpca = pca.transform(scaled_data)\n",
        "\n",
        "PC1 = 0 \n",
        "PC2 = 1 \n",
        "\n",
        "plt.figure(figsize=(10, 10))\n",
        "\n",
        "for i in range(0, xpca.shape[0]): \n",
        "  if flabels[i] == 'BKF01': \n",
        "    c1 = plt.scatter(xpca[i,PC1],xpca[i,PC2], c='r', marker='+') \n",
        "  elif flabels[i] == 'BKF02': \n",
        "    c2 = plt.scatter(xpca[i,PC1],xpca[i,PC2], c='g', marker='o') \n",
        "  elif flabels[i] == 'BKF03': \n",
        "    c3 = plt.scatter(xpca[i,PC1],xpca[i,PC2], c='b', marker='*') \n",
        "  elif flabels[i] == 'BKF13':\n",
        "    c4 = plt.scatter(xpca[i,PC1],xpca[i,PC2], c='r', marker='*')\n",
        "  elif flabels[i] == 'BKF14': \n",
        "    c5 = plt.scatter(xpca[i,PC1],xpca[i,PC2], c='g', marker='o') \n",
        "  elif flabels[i] == 'BKF15':\n",
        "    c6 = plt.scatter(xpca[i,PC1],xpca[i,PC2], c='b', marker='+') \n",
        "\n",
        "#Add labels to PCA scatterplot:\n",
        "plt.legend([c1, c2, c3, c4, c5, c6],['BKF01', 'BKF02', 'BKF03', 'BKF13', 'BKF14', 'BKF15']) \n",
        "plt.xlabel(f'PC1 {round(pca.explained_variance_ratio_[0],2)*100}%') \n",
        "plt.ylabel(f'PC2 {round(pca.explained_variance_ratio_[1],2)*100}%') \n",
        "plt.title('Microbiome Data PCA')\n",
        "plt.show() "
      ],
      "metadata": {
        "colab": {
          "base_uri": "https://localhost:8080/",
          "height": 621
        },
        "outputId": "9f12537e-98e0-4477-fb10-ab9564661f06",
        "id": "urjZ9ku_82WJ"
      },
      "execution_count": null,
      "outputs": [
        {
          "output_type": "display_data",
          "data": {
            "text/plain": [
              "<Figure size 720x720 with 1 Axes>"
            ],
            "image/png": "[encoded data removed]"
          },
          "metadata": {
            "needs_background": "light"
          }
        }
      ]
    },
    {
      "cell_type": "markdown",
      "source": [
        "# Results\n",
        "---\n",
        "\n",
        "The PCA plot for the microbiome data shows singular points representing 61% of the variance in the data. This plot is different that of the cancer and Ebola data because these indivdual points representing the 6 samples rather than groupings among the data. The data points show how similiar and dissimliar the various groups are with one another."
      ],
      "metadata": {
        "id": "Gje7hrKv82WJ"
      }
    },
    {
      "cell_type": "markdown",
      "source": [
        "# Conclusion\n",
        "---\n",
        "\n",
        "The various PCA plots shown demonstrate a range of success in regards to applying dimensionality reduction. None of the above PCA plots met a reasonable threshold of 80% of the variance explained in the two dimensional plots. This variance could be explained further with additional components but this is also dependent on the number of samples analyzed. As the number of features increases, the more noise the data will contian, therefore the more components are necessary to accurately represent the data when dimensionality reduction is applied. This is the curse of dimensionality where there should be more samples than features and the larger the discrepancy, the more complex the interpretation will be. Furthermore, since the microbiome data is primarily integer values, and the cancer data could be rounded to integer values, these samples could be better expressed using an NMDS plot relying on rank orders rather than PCA using Euclidian distances to evaluate the data."
      ],
      "metadata": {
        "id": "PoyiAhDS_Klq"
      }
    }
  ]
}